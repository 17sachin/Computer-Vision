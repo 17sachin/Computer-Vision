{
  "nbformat": 4,
  "nbformat_minor": 0,
  "metadata": {
    "colab": {
      "name": "Assignment_4.ipynb",
      "provenance": [],
      "collapsed_sections": [],
      "authorship_tag": "ABX9TyP43v6N8DHsOBPH46hPKmih",
      "include_colab_link": true
    },
    "kernelspec": {
      "name": "python3",
      "display_name": "Python 3"
    },
    "language_info": {
      "name": "python"
    }
  },
  "cells": [
    {
      "cell_type": "markdown",
      "metadata": {
        "id": "view-in-github",
        "colab_type": "text"
      },
      "source": [
        "<a href=\"https://colab.research.google.com/github/17sachin/Computer-Vision/blob/main/Assignment_4.ipynb\" target=\"_parent\"><img src=\"https://colab.research.google.com/assets/colab-badge.svg\" alt=\"Open In Colab\"/></a>"
      ]
    },
    {
      "cell_type": "markdown",
      "source": [
        "1.What is the concept of cyclical momentum?\n",
        "\n",
        "A technique to set and change and tweak LR during training. This methodology aims to train neural network with a LR that changes in a cyclical way for each batch, instead of a non-cyclic LR that is either constant or changes on every epoch."
      ],
      "metadata": {
        "id": "6_5-KuIVmFQR"
      }
    },
    {
      "cell_type": "markdown",
      "source": [
        "2.What callback keeps track of hyperparameter values (along with other data) during training?\n",
        "\n",
        "Your hyperparameters are the variables that govern the training process itself. For example, part of setting up a deep neural network is deciding how many hidden layers of nodes to use between the input layer and the output layer, and how many nodes each layer should use.\n"
      ],
      "metadata": {
        "id": "m4Pmg4vpo81L"
      }
    },
    {
      "cell_type": "markdown",
      "source": [
        "3.In the color dim plot, what does one column of pixels represent?\n",
        "\n",
        "Each pixel is a sample of an original image, where more samples typically provide more-accurate representations of the original. The intensity of each pixel is variable; in color systems, each pixel has typically three or four components such as red, green, and blue, or cyan, magenta, yellow, and black."
      ],
      "metadata": {
        "id": "KtDkNhSbpNiv"
      }
    },
    {
      "cell_type": "markdown",
      "source": [
        "4.In color dim, what does poor teaching look like? What is the reason for this?"
      ],
      "metadata": {
        "id": "9e2a8WWRpY7Z"
      }
    },
    {
      "cell_type": "markdown",
      "source": [
        "5.Does a batch normalization layer have any trainable parameters?\n",
        "\n",
        "Consequently, batch normalization adds two trainable parameters to each layer, so the normalized output is multiplied by a “standard deviation” parameter (gamma) and add a “mean” parameter (beta)."
      ],
      "metadata": {
        "id": "8E0SniRjpqpS"
      }
    },
    {
      "cell_type": "markdown",
      "source": [
        "6.In batch normalization during preparation, what statistics are used to normalize? What about during the validation process?\n",
        "\n",
        "Batch normalization can be implemented during training by calculating the mean and standard deviation of each input variable to a layer per mini-batch and using these statistics to perform the standardization.\n",
        "\n",
        "Two learnable parameters called beta and gamma.\n",
        "Two non-learnable parameters (Mean Moving Average and Variance Moving Average) are saved as part of the 'state' of the Batch Norm layer.\n",
        "\n"
      ],
      "metadata": {
        "id": "7NIM58GAp0za"
      }
    },
    {
      "cell_type": "markdown",
      "source": [
        "7.Why do batch normalization layers help models generalize better?\n",
        "\n",
        "Batch normalization is a technique to standardize the inputs to a network, applied to ether the activations of a prior layer or inputs directly. Batch normalization accelerates training, in some cases by halving the epochs or better, and provides some regularization, reducing generalization error."
      ],
      "metadata": {
        "id": "eNeG02fAqAiX"
      }
    },
    {
      "cell_type": "markdown",
      "source": [
        "8.Explain between MAX POOLING and AVERAGE POOLING is number eight.\n",
        "\n",
        "Average pooling method smooths out the image and hence the sharp features may not be identified when this pooling method is used. Max pooling selects the brighter pixels from the image. It is useful when the background of the image is dark and we are interested in only the lighter pixels of the image."
      ],
      "metadata": {
        "id": "0TPLmuENqH_2"
      }
    },
    {
      "cell_type": "markdown",
      "source": [
        "9.What is the purpose of the POOLING LAYER?\n",
        "\n",
        "Pooling layers are used to reduce the dimensions of the feature maps. Thus, it reduces the number of parameters to learn and the amount of computation performed in the network. The pooling layer summarises the features present in a region of the feature map generated by a convolution layer"
      ],
      "metadata": {
        "id": "9DxpvIciqQ5n"
      }
    },
    {
      "cell_type": "markdown",
      "source": [
        "10.Why do we end up with Completely CONNECTED LAYERS?\n",
        "\n",
        "Fully connected layers are global (they can introduce any kind of dependence). This is also why convolutions work so well in domains like image analysis - due to their local nature they are much easier to train, even though mathematically they are just a subset of what fully connected layers can represent."
      ],
      "metadata": {
        "id": "ltdzoHSzqYAY"
      }
    },
    {
      "cell_type": "markdown",
      "source": [
        "11.What do you mean by PARAMETERS?\n",
        "\n",
        "A parameter is a limit.You can set parameters for your class debate. Parameter comes from a combination of the Greek word para-, meaning “beside,” and metron, meaning “measure.” The natural world sets certain parameters, like gravity and time. In court, the law defines the parameters of legal behavior."
      ],
      "metadata": {
        "id": "TwmtHdMFqe_T"
      }
    },
    {
      "cell_type": "markdown",
      "source": [
        "12.What formulas are used to measure these PARAMETERS?\n",
        "\n",
        "The perimeter formula for a rectangle states that P = (L + W) × 2, where P represents perimeter, L represents length, and W represents width. When you are given the dimensions of a rectangular shape, you can simply plug in the values of L and W into the formula in order to solve for the perimeter"
      ],
      "metadata": {
        "id": "kqDYmN6nqoi3"
      }
    }
  ]
}
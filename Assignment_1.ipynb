{
  "nbformat": 4,
  "nbformat_minor": 0,
  "metadata": {
    "colab": {
      "name": "Assignment_1.ipynb",
      "provenance": [],
      "collapsed_sections": [],
      "authorship_tag": "ABX9TyN2iqukGNcITNXeoj2EJYwq",
      "include_colab_link": true
    },
    "kernelspec": {
      "name": "python3",
      "display_name": "Python 3"
    },
    "language_info": {
      "name": "python"
    }
  },
  "cells": [
    {
      "cell_type": "markdown",
      "metadata": {
        "id": "view-in-github",
        "colab_type": "text"
      },
      "source": [
        "<a href=\"https://colab.research.google.com/github/17sachin/Computer-Vision/blob/main/Assignment_1.ipynb\" target=\"_parent\"><img src=\"https://colab.research.google.com/assets/colab-badge.svg\" alt=\"Open In Colab\"/></a>"
      ]
    },
    {
      "cell_type": "markdown",
      "source": [
        "1.What exactly is a feature?\n",
        "\n",
        "A feature is a distinctive trait or a special attraction. Feature can also mean to give special attention to something. The word feature has several other senses as a noun and a verb. A feature is a unique quality or characteristic that something has."
      ],
      "metadata": {
        "id": "pjprBDK4bBEp"
      }
    },
    {
      "cell_type": "markdown",
      "source": [
        "2.For a top edge detector, write out the convolutional kernel matrix.\n",
        "\n",
        "1- Define Input and Filter. \n",
        "\n",
        "2- Calculate the final output size. \n",
        "\n",
        "3- Zero-pad the filter matrix. \n",
        "\n",
        "4- Create Toeplitz matrix for each row of the zero-padded filter.\n",
        "\n",
        "5- Create a doubly blocked Toeplitz matrix.\n",
        "\n",
        "6- Convert the input matrix to a column vector.\n",
        "\n",
        "8- Last step: reshape the result to a matrix form"
      ],
      "metadata": {
        "id": "-ML1CF8Mc9wB"
      }
    },
    {
      "cell_type": "markdown",
      "source": [
        "3.Describe the mathematical operation that a 3x3 kernel performs on a single pixel in an image.\n",
        "\n",
        "In image processing, a kernel, convolution matrix, or mask is a small matrix. It is used for blurring, sharpening, embossing, edge detection, and more. This is accomplished by doing a convolution between a kernel and an image.\n",
        "\n",
        "Limiting the number of parameters, we are limiting the number of unrelated features possible. This forces Machine Learning algorithm to learn features common to different situations and so to generalize better. Hence common choice is to keep the kernel size at 3x3 or 5x5"
      ],
      "metadata": {
        "id": "vyg66HD9dMH1"
      }
    },
    {
      "cell_type": "markdown",
      "source": [
        "4.What is the significance of a convolutional kernel added to a 3x3 matrix of zeroes?\n",
        "\n",
        "It is used for blurring, sharpening, embossing, edge detection, and more. This is accomplished by doing a convolution between a kernel and an image. ... While applying 2D convolutions like 3X3 convolutions on images, a 3X3 convolution filter, in general will always have a third dimension in size."
      ],
      "metadata": {
        "id": "BkZPve-rdT9u"
      }
    },
    {
      "cell_type": "markdown",
      "source": [
        "5.What exactly is padding?\n",
        "\n",
        "Padding is the space that's inside the element between the element and the border. Padding goes around all four sides of the content and you can target and change the padding for each side (just like a margin).\n",
        "\n",
        "An element's padding area is the space between its content and its border. Note: Padding creates extra space within an element. In contrast, margin creates extra space around an element."
      ],
      "metadata": {
        "id": "XL7j_6pedcum"
      }
    },
    {
      "cell_type": "markdown",
      "source": [
        "6.What is the concept of stride?\n",
        "\n",
        "Stride is a parameter of the neural network's filter that modifies the amount of movement over the image or video. For example, if a neural network's stride is set to 1, the filter will move one pixel, or unit, at a time.\n",
        "\n"
      ],
      "metadata": {
        "id": "DpZeAAxudocm"
      }
    },
    {
      "cell_type": "markdown",
      "source": [
        "7.What are the shapes of PyTorch's 2D convolution's input and weight parameters?\n",
        "\n",
        "Applies a 2D convolution over an input image composed of several input planes. This operator supports TensorFloat32. See Conv2d for details and output shape. In some circumstances when given tensors on a CUDA device and using CuDNN, this operator may select a nondeterministic algorithm to increase performance."
      ],
      "metadata": {
        "id": "MrSK_7D2dzdE"
      }
    },
    {
      "cell_type": "markdown",
      "source": [
        "8.What exactly is a channel?\n",
        "\n",
        "Typically, a \"channel\" refers to a certain component that defines pixel values in a digital image. A color image, for example is an aggregate of three channels (red, green and blue). The color data of an image is stored in three arrays of values, known as channels"
      ],
      "metadata": {
        "id": "wPCo5XhxeQ8c"
      }
    },
    {
      "cell_type": "markdown",
      "source": [
        "9.Explain relationship between matrix multiplication and a convolution?\n",
        "\n",
        "It is well- known that 2D convolution can be implemented using matrix multiplication by converting one of the input matrices to a Toeplitz matrix. This involves replicating image pixels multi- ple times across different matrix columns."
      ],
      "metadata": {
        "id": "Kyqbm5i4ecEf"
      }
    }
  ]
}
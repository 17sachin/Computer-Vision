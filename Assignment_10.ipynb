{
  "nbformat": 4,
  "nbformat_minor": 0,
  "metadata": {
    "colab": {
      "name": "Assignment_10.ipynb",
      "provenance": [],
      "collapsed_sections": [],
      "authorship_tag": "ABX9TyOyNhBdKI6B9ZFA2hcisvhP",
      "include_colab_link": true
    },
    "kernelspec": {
      "name": "python3",
      "display_name": "Python 3"
    },
    "language_info": {
      "name": "python"
    }
  },
  "cells": [
    {
      "cell_type": "markdown",
      "metadata": {
        "id": "view-in-github",
        "colab_type": "text"
      },
      "source": [
        "<a href=\"https://colab.research.google.com/github/17sachin/Computer-Vision/blob/main/Assignment_10.ipynb\" target=\"_parent\"><img src=\"https://colab.research.google.com/assets/colab-badge.svg\" alt=\"Open In Colab\"/></a>"
      ]
    },
    {
      "cell_type": "markdown",
      "source": [
        "1.Why don't we start all of the weights with zeros?\n",
        "\n",
        "Initializing all the weights with zeros leads the neurons to learn the same features during training. In fact, any constant initialization scheme will perform very poorly.Thus, both neurons will evolve symmetrically throughout training, effectively preventing different neurons from learning different things."
      ],
      "metadata": {
        "id": "x-_cXsmXG3Yj"
      }
    },
    {
      "cell_type": "markdown",
      "source": [
        "2.Why is it beneficial to start weights with a mean zero distribution?\n",
        "\n",
        "Initializing all the weights with zeros leads the neurons to learn the same features during training.Thus, both neurons will evolve symmetrically throughout training, effectively preventing different neurons from learning different things."
      ],
      "metadata": {
        "id": "uTGxusD03uOR"
      }
    },
    {
      "cell_type": "markdown",
      "source": [
        "3.What is dilated convolution, and how does it work?\n",
        "\n",
        "Dilated Convolution: It is a technique that expands the kernel (input) by inserting holes between the its consecutive elements. In simpler terms, it is same as convolution but it involves pixel skipping, so as to cover a larger area of the input."
      ],
      "metadata": {
        "id": "XLSesQxc34MF"
      }
    },
    {
      "cell_type": "markdown",
      "source": [
        "4.What is TRANSPOSED CONVOLUTION, and how does it work?\n",
        "\n",
        "Transposed convolutions are standard convolutions but with a modified input feature map. The stride and padding do not correspond to the number of zeros added around the image and the amount of shift in the kernel when sliding it across the input, as they would in a standard convolution operation."
      ],
      "metadata": {
        "id": "VywdY6Uq3_wf"
      }
    },
    {
      "cell_type": "markdown",
      "source": [
        "5.Explain Separable convolution.\n",
        "\n",
        "The kernel that can be separated across spatial axes is called the spatially separable kernel. The kernel is broken into two smaller kernels and those kernels are multiplied sequentially with the input image to get the same effect of the full kernel."
      ],
      "metadata": {
        "id": "kUYaXlJD4Iz_"
      }
    },
    {
      "cell_type": "markdown",
      "source": [
        "6.What is depthwise convolution, and how does it work?\n",
        "\n",
        "Depthwise Convolution is a type of convolution where we apply a single convolutional filter for each input channel. In the regular 2D convolution performed over multiple input channels, the filter is as deep as the input and lets us freely mix channels to generate each element in the output."
      ],
      "metadata": {
        "id": "PvWMC9L24REe"
      }
    },
    {
      "cell_type": "markdown",
      "source": [
        "7.What is Depthwise separable convolution, and how does it work?\n",
        "\n",
        "Depthwise Convolution is a type of convolution where we apply a single convolutional filter for each input channel. In the regular 2D convolution performed over multiple input channels, the filter is as deep as the input and lets us freely mix channels to generate each element in the output."
      ],
      "metadata": {
        "id": "m6Lmjz0T4ZHW"
      }
    },
    {
      "cell_type": "markdown",
      "source": [
        "8.Capsule networks are what they sound like.\n",
        "\n",
        "A Capsule Neural Network (CapsNet) is a machine learning system that is a type of artificial neural network (ANN) that can be used to better model hierarchical relationships. The approach is an attempt to more closely mimic biological neural organization."
      ],
      "metadata": {
        "id": "m3Nu4BfE4gNG"
      }
    },
    {
      "cell_type": "markdown",
      "source": [
        "9.Why is POOLING such an important operation in CNNs?\n",
        "\n",
        "Pooling layers are used to reduce the dimensions of the feature maps. Thus, it reduces the number of parameters to learn and the amount of computation performed in the network. The pooling layer summarises the features present in a region of the feature map generated by a convolution layer."
      ],
      "metadata": {
        "id": "NIEgov094pRk"
      }
    },
    {
      "cell_type": "markdown",
      "source": [
        "10.What are receptive fields and how do they work?\n",
        "\n",
        "Receptive field, region in the sensory periphery within which stimuli can influence the electrical activity of sensory cells. ... Receptive fields are found throughout the body, including over the body surface; in tissues such as muscles, joints, and the eyes; and in internal organs"
      ],
      "metadata": {
        "id": "ulme-uzJ4wAd"
      }
    }
  ]
}
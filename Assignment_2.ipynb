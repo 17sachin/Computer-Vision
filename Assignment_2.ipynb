{
  "nbformat": 4,
  "nbformat_minor": 0,
  "metadata": {
    "colab": {
      "name": "Assignment_2.ipynb",
      "provenance": [],
      "collapsed_sections": [],
      "authorship_tag": "ABX9TyN3tiHviNYbetmLb9dw7CwL",
      "include_colab_link": true
    },
    "kernelspec": {
      "name": "python3",
      "display_name": "Python 3"
    },
    "language_info": {
      "name": "python"
    }
  },
  "cells": [
    {
      "cell_type": "markdown",
      "metadata": {
        "id": "view-in-github",
        "colab_type": "text"
      },
      "source": [
        "<a href=\"https://colab.research.google.com/github/17sachin/Computer-Vision/blob/main/Assignment_2.ipynb\" target=\"_parent\"><img src=\"https://colab.research.google.com/assets/colab-badge.svg\" alt=\"Open In Colab\"/></a>"
      ]
    },
    {
      "cell_type": "markdown",
      "source": [
        "1.Explain convolutional neural network, and how does it work?\n",
        "\n",
        "A Convolutional Neural Network (ConvNet/CNN) is a Deep Learning algorithm which can take in an input image, assign importance (learnable weights and biases) to various aspects/objects in the image and be able to differentiate one from the other.\n",
        "\n",
        "Each neuron works in its own receptive field and is connected to other neurons in a way that they cover the entire visual field"
      ],
      "metadata": {
        "id": "sGnYhEvmfmtW"
      }
    },
    {
      "cell_type": "markdown",
      "source": [
        "2.How does refactoring parts of your neural network definition favor you?\n",
        "\n",
        "Increase hidden Layers.\n",
        "\n",
        "Change Activation function. \n",
        "\n",
        "Change Activation function in Output layer. \n",
        "\n",
        "Increase number of neurons. \n",
        "\n",
        "Weight initialization. \n",
        "\n",
        "More data. \n",
        "\n",
        "Normalizing/Scaling data."
      ],
      "metadata": {
        "id": "IhQEPjRhfyOc"
      }
    },
    {
      "cell_type": "markdown",
      "source": [
        "3.What does it mean to flatten? Is it necessary to include it in the MNIST CNN? What is the reason for this?\n",
        "\n",
        "Rectangular or cubic shapes can't be direct inputs. And this is why we need flattening and fully-connected layers. Flattening is converting the data into a 1-dimensional array for inputting it to the next layer. We flatten the output of the convolutional layers to create a single long feature vector.\n",
        "\n",
        "Flattening is merging all visible layers into the background layer to reduce file size. The image on the left shows the Layers panel (with three layers) and file size before flattening"
      ],
      "metadata": {
        "id": "lxOJGd2TgAgl"
      }
    },
    {
      "cell_type": "markdown",
      "source": [
        "4.What exactly does NCHW stand for?\n",
        "\n",
        "NCHW stands for: batch N, channels C, depth D, height H, width W. It is a way to store multidimensional arrays / data frames / matrix into memory, which can be considered as a 1-D array"
      ],
      "metadata": {
        "id": "rNR3xvMVgPu2"
      }
    },
    {
      "cell_type": "markdown",
      "source": [
        "5.Why are there 7*7*(1168-16) multiplications in the MNIST CNN's third layer?\n",
        "\n"
      ],
      "metadata": {
        "id": "HSOQIRzZiuDv"
      }
    },
    {
      "cell_type": "markdown",
      "source": [
        "6.Explain definition of receptive field?\n",
        "\n",
        "Region in the sensory periphery within which stimuli can influence the electrical activity of sensory cells. ... Receptive fields are found throughout the body, including over the body surface; in tissues such as muscles, joints, and the eyes; and in internal organs."
      ],
      "metadata": {
        "id": "IDLpMguHi8DC"
      }
    },
    {
      "cell_type": "markdown",
      "source": [
        "7.What is the scale of an activation's receptive field after two stride-2 convolutions? What is the reason for this?\n",
        "\n",
        "You can convince yourself that the correct formula for calculating how many neurons “fit” is given by (W−F+2P)/S+1. For example for a 7x7 input and a 3x3 filter with stride 1 and pad 0 we would get a 5x5 output. With stride 2 we would get a 3x3 output."
      ],
      "metadata": {
        "id": "xwqZvdEMjLck"
      }
    },
    {
      "cell_type": "markdown",
      "source": [
        "8.What is the tensor representation of a color image?\n",
        "\n",
        "In the case of the image, each vector would represent either a row or a column. These matrices are tensors of order two and since they have all the same number of rows and columns, the tensor of order three is actually like cuboid of numbers and we can find numbers by going along any of the three axis."
      ],
      "metadata": {
        "id": "olHqpiOgjXpB"
      }
    },
    {
      "cell_type": "markdown",
      "source": [
        "9.How does a color input interact with a convolution?\n",
        "\n",
        "As you can see in the image, each channel is individually convoluted and then combined to form a pixel. This is how blurring operation works. In convolution, kernels weights for each channel are different and we add the 3 channels together to produce a single channels output."
      ],
      "metadata": {
        "id": "ZywQjr2ojfp6"
      }
    }
  ]
}
{
  "nbformat": 4,
  "nbformat_minor": 0,
  "metadata": {
    "colab": {
      "name": "Assignment_11.ipynb",
      "provenance": [],
      "collapsed_sections": [],
      "authorship_tag": "ABX9TyPa2zG443L14bI4Gat2VfQr",
      "include_colab_link": true
    },
    "kernelspec": {
      "name": "python3",
      "display_name": "Python 3"
    },
    "language_info": {
      "name": "python"
    }
  },
  "cells": [
    {
      "cell_type": "markdown",
      "metadata": {
        "id": "view-in-github",
        "colab_type": "text"
      },
      "source": [
        "<a href=\"https://colab.research.google.com/github/17sachin/Computer-Vision/blob/main/Assignment_11.ipynb\" target=\"_parent\"><img src=\"https://colab.research.google.com/assets/colab-badge.svg\" alt=\"Open In Colab\"/></a>"
      ]
    },
    {
      "cell_type": "markdown",
      "source": [
        "1.What do REGION PROPOSALS entail?\n",
        "\n",
        "A Region Proposal Network, or RPN, is a fully convolutional network that simultaneously predicts object bounds and objectness scores at each position. The RPN is trained end-to-end to generate high-quality region proposals."
      ],
      "metadata": {
        "id": "HuyBrK5H5bCV"
      }
    },
    {
      "cell_type": "markdown",
      "source": [
        "2.What do you mean by NON-MAXIMUM SUPPRESSION? (NMS)\n",
        "\n",
        "Non Maximum Suppression (NMS) is a technique used in numerous computer vision tasks. It is a class of algorithms to select one entity (e.g., bounding boxes) out of many overlapping entities. We can choose the selection criteria to arrive at the desired results"
      ],
      "metadata": {
        "id": "CjM5Slr65m3V"
      }
    },
    {
      "cell_type": "markdown",
      "source": [
        "3.What exactly is mAP?"
      ],
      "metadata": {
        "id": "PNMYELTC5rl0"
      }
    },
    {
      "cell_type": "markdown",
      "source": [
        "4.What is a frames per second (FPS)?\n",
        "\n",
        "Frame rate (expressed in frames per second or FPS) is the frequency (rate) at which consecutive images (frames) are captured or displayed.The term applies equally to film and video cameras, computer graphics, and motion capture systems."
      ],
      "metadata": {
        "id": "H7Z3sJ3i5ziE"
      }
    },
    {
      "cell_type": "markdown",
      "source": [
        "5.What is an IOU (INTERSECTION OVER UNION)?\n",
        "\n",
        "IOU(Intersection over Union) is a term used to describe the extent of overlap of two boxes. The greater the region of overlap, the greater the IOU. IOU is mainly used in applications related to object detection, where we train a model to output a box that fits perfectly around an object."
      ],
      "metadata": {
        "id": "4f4bCzsc59KE"
      }
    },
    {
      "cell_type": "markdown",
      "source": [
        "6.Describe the PRECISION-RECALL CURVE (PR CURVE)\n",
        "\n",
        "A PR curve is simply a graph with Precision values on the y-axis and Recall values on the x-axis. In other words, the PR curve contains TP/(TP+FN) on the y-axis and TP/(TP+FP) on the x-axis. It is important to note that Precision is also called the Positive Predictive Value (PPV)."
      ],
      "metadata": {
        "id": "LamNoSBA6DNs"
      }
    },
    {
      "cell_type": "markdown",
      "source": [
        "7.What is the term selective search?\n",
        "\n",
        "Selective Search is a region proposal algorithm used in object detection. It is designed to be fast with a very high recall. It is based on computing hierarchical grouping of similar regions based on color, texture, size and shape compatibility.\n"
      ],
      "metadata": {
        "id": "4EAVixJg6JMM"
      }
    },
    {
      "cell_type": "markdown",
      "source": [
        "8.Describe the R-CNN model's four components.\n",
        "\n",
        "Region Based Convolutional Neural Networks (R-CNN) are a family of machine learning models for computer vision and specifically object detection.\n",
        "\n",
        "R-CNN, or Regions with CNN Features, is an object detection model that uses high-capacity CNNs to bottom-up region proposals in order to localize and segment objects."
      ],
      "metadata": {
        "id": "kxo0DiU86UZk"
      }
    },
    {
      "cell_type": "markdown",
      "source": [
        "9.What exactly is the Localization Module?\n",
        "\n",
        "A localization of a module is the result of application of an additive localization functor on a category of modules over some ring R."
      ],
      "metadata": {
        "id": "ipmEhaTC6kFs"
      }
    },
    {
      "cell_type": "markdown",
      "source": [
        "10.What are the R-CNN DISADVANTAGES?\n",
        "\n",
        "It still takes a huge amount of time to train the network as you would have to classify 2000 region proposals per image. It cannot be implemented real time as it takes around 47 seconds for each test image. The selective search algorithm is a fixed algorithm."
      ],
      "metadata": {
        "id": "UXbrb4dS6uCT"
      }
    }
  ]
}